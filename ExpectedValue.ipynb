{
 "cells": [
  {
   "cell_type": "code",
   "execution_count": 14,
   "metadata": {},
   "outputs": [
    {
     "name": "stdout",
     "output_type": "stream",
     "text": [
      "1 2.0\n",
      "21 2.952380952380953\n",
      "41 3.0000000000000018\n",
      "61 3.131147540983605\n",
      "81 3.2222222222222228\n",
      "101 2.8712871287128734\n",
      "121 3.165289256198349\n",
      "141 2.9290780141843946\n",
      "161 3.217391304347825\n",
      "181 3.1325966850828713\n",
      "201 3.0348258706467655\n",
      "221 2.895927601809947\n",
      "241 2.9045643153526903\n",
      "261 3.00000000000001\n",
      "281 3.053380782918155\n",
      "301 2.9667774086378778\n",
      "321 2.9501557632398607\n",
      "341 3.131964809384162\n",
      "361 2.9473684210526327\n",
      "381 2.9343832020997347\n",
      "401 3.007481296758086\n",
      "421 3.0712589073634105\n",
      "441 2.909297052154189\n",
      "461 3.0260303687635424\n",
      "481 3.0041580041579934\n",
      "501 2.9820359281437203\n",
      "521 3.097888675623814\n",
      "541 2.9778188539741177\n",
      "561 3.0677361853832474\n",
      "581 2.938037865748703\n",
      "601 3.059900166389349\n",
      "621 3.0193236714975957\n",
      "641 3.0624024960998173\n",
      "661 2.904689863842681\n",
      "681 3.001468428781189\n",
      "701 3.1027104136947243\n",
      "721 3.058252427184465\n",
      "741 3.035087719298234\n",
      "761 2.929040735873856\n",
      "781 2.956466069142121\n",
      "801 2.9962546816479123\n",
      "821 3.025578562728407\n",
      "841 3.0261593341260737\n",
      "861 3.0569105691057104\n",
      "881 3.06356413166859\n",
      "901 2.948945615982267\n",
      "921 3.029315960912053\n",
      "941 3.0605738575982606\n",
      "961 2.926118626430804\n",
      "981 2.9520897043832766\n"
     ]
    }
   ],
   "source": [
    "import numpy as np\n",
    "import random\n",
    "K = 6\n",
    "\n",
    "def MathExpectedValue(N, K):\n",
    "    E = 0\n",
    "    #p = 1 / K\n",
    "    for _ in range(N):\n",
    "        E += random.randrange(1, K) / N\n",
    "    return E\n",
    "\n",
    "for N in range(1, 1000, 20):\n",
    "    print(N, MathExpectedValue(N, K))"
   ]
  },
  {
   "cell_type": "code",
   "execution_count": 2,
   "metadata": {},
   "outputs": [
    {
     "name": "stdout",
     "output_type": "stream",
     "text": [
      "0.01\n"
     ]
    }
   ],
   "source": [
    "print(p)"
   ]
  },
  {
   "cell_type": "code",
   "execution_count": 3,
   "metadata": {
    "collapsed": true
   },
   "outputs": [],
   "source": [
    "? random.random"
   ]
  },
  {
   "cell_type": "code",
   "execution_count": null,
   "metadata": {
    "collapsed": true
   },
   "outputs": [],
   "source": []
  }
 ],
 "metadata": {
  "kernelspec": {
   "display_name": "Python 3",
   "language": "python",
   "name": "python3"
  },
  "language_info": {
   "codemirror_mode": {
    "name": "ipython",
    "version": 3
   },
   "file_extension": ".py",
   "mimetype": "text/x-python",
   "name": "python",
   "nbconvert_exporter": "python",
   "pygments_lexer": "ipython3",
   "version": "3.6.3"
  }
 },
 "nbformat": 4,
 "nbformat_minor": 2
}
